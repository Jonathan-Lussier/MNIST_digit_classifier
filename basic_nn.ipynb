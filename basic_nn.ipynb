{
 "cells": [
  {
   "cell_type": "markdown",
   "metadata": {},
   "source": [
    "simaliar to the first attempt but with cleaner code, more flexible layer creation"
   ]
  },
  {
   "cell_type": "code",
   "execution_count": 106,
   "metadata": {},
   "outputs": [
    {
     "name": "stdout",
     "output_type": "stream",
     "text": [
      "start!\n"
     ]
    }
   ],
   "source": [
    "import numpy as np\n",
    "import math\n",
    "print(\"start!\")\n"
   ]
  },
  {
   "cell_type": "code",
   "execution_count": 107,
   "metadata": {},
   "outputs": [],
   "source": [
    "def create_layer(layer_size, dtype=np.float32, **kwargs):\n",
    "    layer = np.zeros(layer_size, dtype=dtype)\n",
    "    return(layer)\n",
    "\n",
    "def create_layer_weights(prev_ly_size, curr_ly_size, init=True):\n",
    "    if init:\n",
    "        ly_weights = np.random.rand(prev_ly_size, curr_ly_size)\n",
    "    else:\n",
    "        ly_weights = np.zeros(shape=(prev_ly_size, curr_ly_size))\n",
    "    return(ly_weights)\n",
    "\n",
    "def create_biases(ly_size, init=True):\n",
    "    if init:\n",
    "        biases = np.random.rand(ly_size)\n",
    "    else:\n",
    "        biases = np.zeros(ly_size)\n",
    "    return(biases)\n",
    "\n",
    "\n",
    "def label_to_output(int):\n",
    "    outlayer = np.zeros(shape=(10), dtype=np.float32)\n",
    "    outlayer[int] = 1\n",
    "    return(outlayer)\n",
    "\n",
    "class n_network:\n",
    "    def __init__(self, layers, biases, wieghts):\n",
    "        self.layers = layers\n",
    "        self.biases = biases\n",
    "        self.wieghts = wieghts\n",
    "\n",
    "def create_network(in_ly_size, out_ly_size, hidden_ly_num, hidden_ly_size):\n",
    "    in_layer = create_layer(in_ly_size)\n",
    "    hidden_lys = []\n",
    "    for index in range(hidden_ly_num):\n",
    "        hidden_lys.append(create_layer(hidden_ly_size))\n",
    "    out_layer = create_layer(out_ly_size)\n",
    "    network_lys = [in_layer, *hidden_lys, out_layer]\n",
    "\n",
    "    biases =[]\n",
    "    for i in range(1, len(network_lys), 1):\n",
    "        biases.append(create_biases(np.size(network_lys[i])))\n",
    "\n",
    "    weights = []\n",
    "    for i in range(1, len(network_lys), 1):\n",
    "        weights.append( create_layer_weights(np.size(network_lys[i-1]), np.size(network_lys[i]), init=True))\n",
    "\n",
    "    network = n_network(network_lys, biases, weights)\n",
    "    return(network)\n",
    "\n",
    "\n",
    "def sigx(number):\n",
    "    #sigmond function\n",
    "    try:\n",
    "        sig_x = ( 1 / (1+ math.exp(-number)))\n",
    "        #this does not woprk for large negitive numbers \n",
    "        # due to rounding errors leading to devide by zero so we'll add error handling\n",
    "    except OverflowError:\n",
    "        sig_x = 0\n",
    "    return(sig_x)\n",
    "\n",
    "def forward(input_vals, net:n_network):\n",
    "    #first layer\n",
    "    net.layers[0] = input_vals\n",
    "\n",
    "    for index in range(1, len(net.layers), 1):\n",
    "        net.layers[index] = np.dot(net.layers[(index-1)], net.wieghts[index-1]) + net.biases[index-1]\n",
    "        \n",
    "        #activation function\n",
    "        sigVec = np.vectorize(sigx)\n",
    "        net.layers[index] = sigVec(net.layers[index])\n",
    "    return(net)\n",
    "\n",
    "def node_delta(expected:np.array, actual:np.array):\n",
    "    delta = expected - actual\n",
    "    return(delta)\n",
    "\n",
    "\n",
    "\n",
    "def loss(network_output_ly, expected_ly):\n",
    "    #loss =  mean of all output neurons - the expected, squared\n",
    "    loss_vec = (network_output_ly - expected_ly)**2\n",
    "    loss_sclr = np.sum((network_output_ly - expected_ly)**2) / len(network_output_ly)\n",
    "    return(loss_sclr, loss_vec)\n",
    "\n",
    "def backprop_single(net: n_network, expected_out_ly):\n",
    "    #for i_index, layers in net.layers\n",
    "    w_delta = np.zeros_like(net.wieghts)\n",
    "    b_delta = np.zeros_like(net.biases)\n",
    "    a_delta = np.zeros_like(net.layers)\n",
    "    print(\"a_delta:\", a_delta)\n",
    "    print(\"w_delta:\", a_delta)\n",
    "\n",
    "    first = True\n",
    "    for l in range(len(net.layers)-1, 0, -1):\n",
    "        print(len(net.layers))\n",
    "        print(\"at l of:\", l)\n",
    "\n",
    "        if first:\n",
    "                #first(last) layer\n",
    "            first = False\n",
    "            a_delta_dir = expected_out_ly - net.layers[l]\n",
    "            print(\"delta a, first layer:\", a_delta_dir)\n",
    "            w_delta[l-1] = np.outer(a_delta_dir, net.layers[l])     \n",
    "\n",
    "        else:\n",
    "            a_delta_dir = a_delta[l] - net.layers[l]\n",
    "            print(\"delta a:\", a_delta_dir)\n",
    "            w_delta[l-1,:,:] = np.outer(a_delta_dir, net.layers[l])\n",
    "\n",
    "\n",
    "    return(w_delta, b_delta, a_delta)\n",
    "\n"
   ]
  },
  {
   "cell_type": "code",
   "execution_count": 108,
   "metadata": {},
   "outputs": [
    {
     "name": "stdout",
     "output_type": "stream",
     "text": [
      "a_delta: [[0. 0. 0.]\n",
      " [0. 0. 0.]\n",
      " [0. 0. 0.]]\n",
      "w_delta: [[0. 0. 0.]\n",
      " [0. 0. 0.]\n",
      " [0. 0. 0.]]\n",
      "3\n",
      "at l of: 2\n",
      "delta a, first layer: [0. 1. 0.]\n",
      "3\n",
      "at l of: 1\n",
      "delta a: [0. 0. 0.]\n"
     ]
    },
    {
     "data": {
      "text/plain": [
       "(array([[[0., 0., 0.],\n",
       "         [0., 0., 0.],\n",
       "         [0., 0., 0.]],\n",
       " \n",
       "        [[0., 0., 0.],\n",
       "         [0., 0., 0.],\n",
       "         [0., 0., 0.]]]),\n",
       " array([[0., 0., 0.],\n",
       "        [0., 0., 0.]]),\n",
       " array([[0., 0., 0.],\n",
       "        [0., 0., 0.],\n",
       "        [0., 0., 0.]], dtype=float32))"
      ]
     },
     "execution_count": 108,
     "metadata": {},
     "output_type": "execute_result"
    }
   ],
   "source": [
    "net = create_network(3,3,1,3)\n",
    "input = [0,1,2]\n",
    "output = [0,1,0]\n",
    "backprop_single(net, output)"
   ]
  },
  {
   "cell_type": "code",
   "execution_count": 109,
   "metadata": {},
   "outputs": [
    {
     "name": "stdout",
     "output_type": "stream",
     "text": [
      "weights: \n",
      "[[0.36558628 0.50312638 0.38493594]\n",
      " [0.92157084 0.09648922 0.69928546]\n",
      " [0.88231203 0.97478797 0.26162829]]\n",
      "[[0.2091979  0.11025822 0.18700941]\n",
      " [0.02933415 0.81178509 0.4023575 ]\n",
      " [0.81371026 0.67059237 0.68730767]]\n",
      "weights zeros: \n",
      "[[0. 0. 0.]\n",
      " [0. 0. 0.]\n",
      " [0. 0. 0.]]\n",
      "[[0. 0. 0.]\n",
      " [0. 0. 0.]\n",
      " [0. 0. 0.]]\n",
      "[0.96081732 0.93168407 0.90205332]\n",
      "[0.96081732 0.93168407 0.90205332]\n"
     ]
    }
   ],
   "source": [
    "network = create_network(3,3,1,3)\n",
    "\n",
    "input = [0,1,2]\n",
    "output = [0,1,0]\n",
    "\n",
    "\n",
    "network = forward(input,network)\n",
    "#print(\"layers: \")\n",
    "#print(network.layers[:])\n",
    "print(\"weights: \")\n",
    "for bunchs in network.wieghts:\n",
    "    print(bunchs)\n",
    "w_delta = np.zeros_like(network.wieghts)\n",
    "print(\"weights zeros: \")\n",
    "for bunchs in w_delta:\n",
    "    print(bunchs)\n",
    "\n",
    "#print(\"ouput:\",network.layers[-1])\n",
    "\n",
    "#print(loss(network.layers[-1], output))\n",
    "\n",
    "print(network.layers[1])\n",
    "\n",
    "print(network.layers[1])"
   ]
  }
 ],
 "metadata": {
  "kernelspec": {
   "display_name": "working_env",
   "language": "python",
   "name": "python3"
  },
  "language_info": {
   "codemirror_mode": {
    "name": "ipython",
    "version": 3
   },
   "file_extension": ".py",
   "mimetype": "text/x-python",
   "name": "python",
   "nbconvert_exporter": "python",
   "pygments_lexer": "ipython3",
   "version": "3.10.12"
  }
 },
 "nbformat": 4,
 "nbformat_minor": 2
}

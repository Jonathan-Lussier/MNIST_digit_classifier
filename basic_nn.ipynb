{
 "cells": [
  {
   "cell_type": "markdown",
   "metadata": {},
   "source": [
    "simaliar to the first attempt but with cleaner code, more flexible layer creation"
   ]
  },
  {
   "cell_type": "code",
   "execution_count": null,
   "metadata": {},
   "outputs": [],
   "source": [
    "import numpy as np\n",
    "import math\n",
    "print(\"start!\")\n"
   ]
  },
  {
   "cell_type": "code",
   "execution_count": null,
   "metadata": {},
   "outputs": [],
   "source": [
    "def create_layer(layer_size, dtype=np.float32, **kwargs):\n",
    "    layer = np.zeros(layer_size, dtype=dtype)\n",
    "    return(layer)\n",
    "\n",
    "def create_layer_weights(prev_ly_size, curr_ly_size, init=True):\n",
    "    if init:\n",
    "        ly_weights = np.random.rand(prev_ly_size, curr_ly_size)\n",
    "    else:\n",
    "        ly_weights = np.zeros(shape=(prev_ly_size, curr_ly_size))\n",
    "    return(ly_weights)\n",
    "\n",
    "def create_biases(ly_size):\n",
    "    biases = np.random.rand(ly_size)\n",
    "    return(biases)\n",
    "\n",
    "class n_network:\n",
    "    def __init__(self, layers, biases, wieghts):\n",
    "        self.layers = layers\n",
    "        self.biases = biases\n",
    "        self.wieghts = wieghts\n",
    "\n",
    "def create_network(in_ly_size, out_ly_size, hidden_ly_num, hidden_ly_size):\n",
    "    in_layer = create_layer(in_ly_size)\n",
    "    hidden_lys = []\n",
    "    for index in range(hidden_ly_num):\n",
    "        hidden_lys.append(create_layer(hidden_ly_size))\n",
    "    out_layer = create_layer(out_ly_size)\n",
    "    network_lys = [in_layer, *hidden_lys, out_layer]\n",
    "\n",
    "    biases =[]\n",
    "    for layers in network_lys:\n",
    "        biases.append(create_biases(np.size(layers)))\n",
    "\n",
    "    weights = []\n",
    "    for i in range(1, len(network_lys), 1):\n",
    "        weights.append( create_layer_weights(np.size(network_lys[i-1]), np.size(network_lys[i]), init=True))\n",
    "\n",
    "    network = n_network(network_lys, biases, weights)\n",
    "    return(network)\n",
    "\n",
    "\n",
    "def sigx(number):\n",
    "    #sigmond function\n",
    "    try:\n",
    "        sig_x = ( 1 / (1+ math.exp(-number)))\n",
    "        #this does not woprk for large negitive numbers \n",
    "        # due to rounding errors leading to devide by zero so we'll add error handling\n",
    "    except OverflowError:\n",
    "        sig_x = 0\n",
    "    return(sig_x)\n",
    "\n",
    "def forward(input_vals, net:n_network):\n",
    "    #first layer\n",
    "    net.layers[0] = input_vals\n",
    "\n",
    "    for index in range(1, len(net.layers), 1):\n",
    "        net.layers[index] = np.dot(net.layers[(index-1)], net.wieghts[index-1])\n",
    "        sigVec = np.vectorize(sigx)\n",
    "        net.layers[index] = sigVec(net.layers[index])\n",
    "    return(net)\n",
    "\n"
   ]
  },
  {
   "cell_type": "code",
   "execution_count": null,
   "metadata": {},
   "outputs": [],
   "source": [
    "network = create_network(3,3,1,3)\n",
    "\n",
    "\n",
    "network = forward([0,1,2],network)\n",
    "print(network.layers[:])\n",
    "print(network.wieghts[:])\n",
    "\n",
    "print(\"ouput:\",network.layers[-1])\n"
   ]
  },
  {
   "cell_type": "code",
   "execution_count": null,
   "metadata": {},
   "outputs": [],
   "source": [
    "ply = np.array([1,2,3,4,5])\n",
    "cly = [0,0,0]\n",
    "cwight = np.ones(shape=(np.size(ply), np.size(cly)))\n",
    "cwight = np.array([\n",
    "[0,1,2],\n",
    "[3,4,5],\n",
    "[1,1,1],\n",
    "[0,0,0],\n",
    "[5,5,5]\n",
    "])\n",
    "#cwight = np.random.rand(np.size(ply), np.size(cly))\n",
    "nly = np.dot(ply, cwight)\n",
    "\n",
    "print(ply)\n",
    "print(cly)\n",
    "print(cwight)\n",
    "print(nly)\n",
    "\n"
   ]
  }
 ],
 "metadata": {
  "kernelspec": {
   "display_name": "working_env",
   "language": "python",
   "name": "python3"
  },
  "language_info": {
   "codemirror_mode": {
    "name": "ipython",
    "version": 3
   },
   "file_extension": ".py",
   "mimetype": "text/x-python",
   "name": "python",
   "nbconvert_exporter": "python",
   "pygments_lexer": "ipython3",
   "version": "3.10.12"
  }
 },
 "nbformat": 4,
 "nbformat_minor": 2
}

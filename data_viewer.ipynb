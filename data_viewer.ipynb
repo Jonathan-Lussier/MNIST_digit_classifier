{
 "cells": [
  {
   "cell_type": "code",
   "execution_count": null,
   "id": "8d486b2e",
   "metadata": {},
   "outputs": [],
   "source": [
    "from matplotlib import pyplot as plt\n",
    "import numpy as np\n",
    "\n",
    "f_name = f\"name\"\n",
    "data = np.loadtxt(f_name, delimiter=\",\")\n",
    "\n",
    "epoch  = data[:,0]\n",
    "loss  = data[:,1]\n",
    "\n",
    "\n",
    "\n"
   ]
  }
 ],
 "metadata": {
  "kernelspec": {
   "display_name": "working_env",
   "language": "python",
   "name": "python3"
  },
  "language_info": {
   "codemirror_mode": {
    "name": "ipython",
    "version": 3
   },
   "file_extension": ".py",
   "mimetype": "text/x-python",
   "name": "python",
   "nbconvert_exporter": "python",
   "pygments_lexer": "ipython3",
   "version": "3.10.12"
  }
 },
 "nbformat": 4,
 "nbformat_minor": 5
}

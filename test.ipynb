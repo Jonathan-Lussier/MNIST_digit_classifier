{
 "cells": [
  {
   "cell_type": "code",
   "execution_count": 6,
   "metadata": {},
   "outputs": [
    {
     "ename": "ValueError",
     "evalue": "shapes (5,) and (3,) not aligned: 5 (dim 0) != 3 (dim 0)",
     "output_type": "error",
     "traceback": [
      "\u001b[0;31m---------------------------------------------------------------------------\u001b[0m",
      "\u001b[0;31mValueError\u001b[0m                                Traceback (most recent call last)",
      "Cell \u001b[0;32mIn[6], line 15\u001b[0m\n\u001b[1;32m     13\u001b[0m \u001b[38;5;66;03m#cwight = np.random.rand(np.size(ply), np.size(cly))\u001b[39;00m\n\u001b[1;32m     14\u001b[0m nly \u001b[38;5;241m=\u001b[39m np\u001b[38;5;241m.\u001b[39mdot(ply, cwight)\n\u001b[0;32m---> 15\u001b[0m delta \u001b[38;5;241m=\u001b[39m \u001b[43mnp\u001b[49m\u001b[38;5;241;43m.\u001b[39;49m\u001b[43mdot\u001b[49m\u001b[43m(\u001b[49m\u001b[43mply\u001b[49m\u001b[43m,\u001b[49m\u001b[43m \u001b[49m\u001b[43mnp\u001b[49m\u001b[38;5;241;43m.\u001b[39;49m\u001b[43mtranspose\u001b[49m\u001b[43m(\u001b[49m\u001b[43mcly\u001b[49m\u001b[43m)\u001b[49m\u001b[43m)\u001b[49m\n\u001b[1;32m     17\u001b[0m \u001b[38;5;28mprint\u001b[39m(ply)\n\u001b[1;32m     18\u001b[0m \u001b[38;5;28mprint\u001b[39m(cly)\n",
      "\u001b[0;31mValueError\u001b[0m: shapes (5,) and (3,) not aligned: 5 (dim 0) != 3 (dim 0)"
     ]
    }
   ],
   "source": [
    "import numpy as np\n",
    "\n",
    "ply = np.array([1,2,3,4,5])\n",
    "cly = np.array([0,0,0])\n",
    "cwight = np.ones(shape=(np.size(ply), np.size(cly)))\n",
    "cwight = np.array([\n",
    "[0,1,2],\n",
    "[3,4,5],\n",
    "[1,1,1],\n",
    "[0,0,0],\n",
    "[5,5,5]\n",
    "])\n",
    "#cwight = np.random.rand(np.size(ply), np.size(cly))\n",
    "nly = np.dot(ply, cwight)\n",
    "delta = np.dot(ply, np.transpose(cly))\n",
    "\n",
    "print(ply)\n",
    "print(cly)\n",
    "print(cwight)\n",
    "print(nly)\n",
    "\n"
   ]
  }
 ],
 "metadata": {
  "kernelspec": {
   "display_name": "working_env",
   "language": "python",
   "name": "python3"
  },
  "language_info": {
   "codemirror_mode": {
    "name": "ipython",
    "version": 3
   },
   "file_extension": ".py",
   "mimetype": "text/x-python",
   "name": "python",
   "nbconvert_exporter": "python",
   "pygments_lexer": "ipython3",
   "version": "3.10.12"
  }
 },
 "nbformat": 4,
 "nbformat_minor": 2
}

{
 "cells": [
  {
   "cell_type": "code",
   "execution_count": 14,
   "metadata": {},
   "outputs": [
    {
     "name": "stdout",
     "output_type": "stream",
     "text": [
      "DA:  [ 3  5  8 33  8]\n",
      "size of label array:  15\n",
      "size of label array:  (15, 10)\n",
      "[[1 0 0 0 0 0 0 0 0 0]\n",
      " [0 1 0 0 0 0 0 0 0 0]\n",
      " [0 0 1 0 0 0 0 0 0 0]\n",
      " [0 0 0 1 0 0 0 0 0 0]\n",
      " [0 0 0 0 1 0 0 0 0 0]\n",
      " [0 0 0 0 0 1 0 0 0 0]\n",
      " [0 0 0 0 0 0 1 0 0 0]\n",
      " [0 0 0 0 0 0 0 1 0 0]\n",
      " [0 0 0 0 0 0 0 0 1 0]\n",
      " [0 0 0 0 0 0 0 0 0 1]\n",
      " [1 0 0 0 0 0 0 0 0 0]\n",
      " [0 1 0 0 0 0 0 0 0 0]\n",
      " [0 0 1 0 0 0 0 0 0 0]\n",
      " [0 0 0 1 0 0 0 0 0 0]\n",
      " [0 0 0 0 1 0 0 0 0 0]]\n",
      "[[0 0 1]\n",
      " [1 1 0]\n",
      " [1 1 1]\n",
      " [1 8 0]\n",
      " [1 1 1]]\n",
      "[[0.   0.   0.05]\n",
      " [0.05 0.05 0.  ]\n",
      " [0.05 0.05 0.05]\n",
      " [0.05 0.4  0.  ]\n",
      " [0.05 0.05 0.05]]\n"
     ]
    }
   ],
   "source": [
    "import numpy as np\n",
    "\n",
    "Al = np.array([1,4,3])\n",
    "Wl = np.array([\n",
    "[0,0,1],\n",
    "[1,1,0],\n",
    "[1,1,1],\n",
    "[1,8,0],\n",
    "[1,1,1]\n",
    "])\n",
    "\n",
    "DA = np.zeros(5)\n",
    "gwight = np.transpose(Wl)\n",
    "\n",
    "#print(nly)\n",
    "\n",
    "DA = np.dot(Al, gwight)\n",
    "print(\"DA: \", np.dot(Al, gwight))\n",
    "\n",
    "def label_to_output(input: int):\n",
    "    outlayer = np.zeros(shape=(10), dtype=np.float32)\n",
    "    outlayer[input] = 1\n",
    "    return(outlayer)\n",
    "\n",
    "def label_vec_to_output(inputs: np.ndarray) -> np.ndarray:\n",
    "    # Create an identity matrix of size 10 and index into it\n",
    "    return np.eye(10, dtype=np.int8)[inputs]\n",
    "\n",
    "\n",
    "label_in = np.array([0,1,2,3,4,5,6,7,8,9,0,1,2,3,4])\n",
    "print(\"size of label array: \", np.size(label_in))\n",
    "Labels = label_vec_to_output(label_in)\n",
    "print(\"size of label array: \", np.shape(Labels))\n",
    "print(Labels)\n",
    "\n",
    "print(Wl)\n",
    "Wl = Wl * 0.05\n",
    "print(Wl)"
   ]
  },
  {
   "cell_type": "code",
   "execution_count": 25,
   "metadata": {},
   "outputs": [
    {
     "name": "stdout",
     "output_type": "stream",
     "text": [
      "shape of A:  (10,)\n",
      "A neg:  [0.67811977 0.28163797 0.51015089 0.42893643 0.31217178 0.92131973\n",
      " 0.6873461  0.49285303 0.10728521 0.76288248 0.72595143 0.03016806\n",
      " 0.72768863 0.07856564 0.76650734 0.40069881 0.88243665]\n",
      "shape of product:  (17,)\n",
      "thingy 2 shape :  (17, 10)\n"
     ]
    }
   ],
   "source": [
    "import numpy as np\n",
    "\n",
    "A = np.random.rand(10,)\n",
    "A_neg1 = np.random.rand(17,)\n",
    "print(\"shape of A: \", A.shape)\n",
    "\n",
    "print(\"A neg: \",A_neg1)\n",
    "\n",
    "W = np.ndarray(shape=(17,10))\n",
    "W = np.random.rand(17,10)\n",
    "\n",
    "thingy = np.dot(W, A)\n",
    "print(\"shape of product: \",thingy.shape)\n",
    "thingy_2 = np.outer(A_neg1, A)\n",
    "print(\"thingy 2 shape : \", thingy_2.shape)"
   ]
  },
  {
   "cell_type": "code",
   "execution_count": 1,
   "metadata": {},
   "outputs": [
    {
     "name": "stdout",
     "output_type": "stream",
     "text": [
      "[[5. 6.]\n",
      " [7. 8.]]\n"
     ]
    }
   ],
   "source": [
    "import numpy as np\n",
    "\n",
    "# Sample input: list of ndarrays with the same shape\n",
    "arrays = [\n",
    "    np.array([[1, 2], [3, 4]]),\n",
    "    np.array([[5, 6], [7, 8]]),\n",
    "    np.array([[9, 10], [11, 12]])\n",
    "]\n",
    "\n",
    "# Stack them along a new axis and compute the mean across that axis\n",
    "average = np.mean(arrays, axis=0)\n",
    "\n",
    "print(average)\n"
   ]
  },
  {
   "cell_type": "code",
   "execution_count": 6,
   "metadata": {},
   "outputs": [
    {
     "name": "stdout",
     "output_type": "stream",
     "text": [
      "W_num 2\n",
      "L_num 3\n",
      "W_num 1\n",
      "L_num 2\n",
      "W_num 0\n",
      "L_num 1\n"
     ]
    }
   ],
   "source": [
    "layer_num = 4\n",
    "for l_num in range(layer_num-1,0,-1):\n",
    "    w_num = l_num -1\n",
    "    print(\"W_num\", w_num)    \n",
    "    print(\"L_num\", l_num)"
   ]
  }
 ],
 "metadata": {
  "kernelspec": {
   "display_name": "working_env",
   "language": "python",
   "name": "python3"
  },
  "language_info": {
   "codemirror_mode": {
    "name": "ipython",
    "version": 3
   },
   "file_extension": ".py",
   "mimetype": "text/x-python",
   "name": "python",
   "nbconvert_exporter": "python",
   "pygments_lexer": "ipython3",
   "version": "3.10.12"
  }
 },
 "nbformat": 4,
 "nbformat_minor": 2
}

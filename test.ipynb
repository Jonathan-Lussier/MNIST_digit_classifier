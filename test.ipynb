{
 "cells": [
  {
   "cell_type": "code",
   "execution_count": 9,
   "metadata": {},
   "outputs": [
    {
     "name": "stdout",
     "output_type": "stream",
     "text": [
      "DA:  [ 3  5  8 33  8]\n"
     ]
    }
   ],
   "source": [
    "import numpy as np\n",
    "\n",
    "Al = np.array([1,4,3])\n",
    "Wl = np.array([\n",
    "[0,0,1],\n",
    "[1,1,0],\n",
    "[1,1,1],\n",
    "[1,8,0],\n",
    "[1,1,1]\n",
    "])\n",
    "\n",
    "DA = np.zeros(5)\n",
    "gwight = np.transpose(cwight)\n",
    "\n",
    "#print(nly)\n",
    "\n",
    "DA = np.dot(Al, gwight)\n",
    "print(\"DA: \", np.dot(Al, gwight))\n",
    "\n"
   ]
  }
 ],
 "metadata": {
  "kernelspec": {
   "display_name": "working_env",
   "language": "python",
   "name": "python3"
  },
  "language_info": {
   "codemirror_mode": {
    "name": "ipython",
    "version": 3
   },
   "file_extension": ".py",
   "mimetype": "text/x-python",
   "name": "python",
   "nbconvert_exporter": "python",
   "pygments_lexer": "ipython3",
   "version": "3.12.5"
  }
 },
 "nbformat": 4,
 "nbformat_minor": 2
}

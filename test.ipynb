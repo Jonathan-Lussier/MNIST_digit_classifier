{
 "cells": [
  {
   "cell_type": "code",
   "execution_count": null,
   "metadata": {},
   "outputs": [],
   "source": [
    "ply = np.array([1,2,3,4,5])\n",
    "cly = [0,0,0]\n",
    "cwight = np.ones(shape=(np.size(ply), np.size(cly)))\n",
    "cwight = np.array([\n",
    "[0,1,2],\n",
    "[3,4,5],\n",
    "[1,1,1],\n",
    "[0,0,0],\n",
    "[5,5,5]\n",
    "])\n",
    "#cwight = np.random.rand(np.size(ply), np.size(cly))\n",
    "nly = np.dot(ply, cwight)\n",
    "\n",
    "print(ply)\n",
    "print(cly)\n",
    "print(cwight)\n",
    "print(nly)\n",
    "\n"
   ]
  }
 ],
 "metadata": {
  "language_info": {
   "name": "python"
  }
 },
 "nbformat": 4,
 "nbformat_minor": 2
}
